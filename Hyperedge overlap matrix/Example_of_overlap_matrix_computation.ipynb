{
 "cells": [
  {
   "cell_type": "markdown",
   "metadata": {},
   "source": [
    "### Simple example of computation of the hyperedge overlap matrix for an hypergraph with 1-hyperedges and 2-hyperedges."
   ]
  },
  {
   "cell_type": "code",
   "execution_count": 59,
   "metadata": {},
   "outputs": [],
   "source": [
    "from hyperedge_overlap_utils import *\n",
    "import pandas as pd\n",
    "import matplotlib.pyplot as plt\n",
    "import numpy as np\n",
    "from mpl_toolkits.axes_grid1 import make_axes_locatable\n",
    "import seaborn as sns"
   ]
  },
  {
   "cell_type": "code",
   "execution_count": 60,
   "metadata": {},
   "outputs": [],
   "source": [
    "#Read the files with the hyperedges\n",
    "File_Pairs = pd.read_csv('Hs/Regular_Hg_Pairs_N_1000_k_5_k_delta_6_I_1.0000.txt', sep = '\\t', header = None)\n",
    "File_Triangles = pd.read_csv('Hs/Regular_Hg_Triangles_N_1000_k_5_k_delta_6_T_1.0000.txt', sep = '\\t', header = None)\n",
    "pairs_array=np.array(File_Pairs)\n",
    "triangles_array=np.array(File_Triangles)\n",
    "\n",
    "#Join the hyperedges in a single array\n",
    "groups = [pairs_array, triangles_array]\n",
    "orders = [1, 2]\n",
    "\n",
    "#Calculate the overlap between the hyperedges\n",
    "overlap_matrix = hyperedge_overlap_matrix(groups, orders)"
   ]
  },
  {
   "cell_type": "code",
   "execution_count": 61,
   "metadata": {},
   "outputs": [
    {
     "data": {
      "image/png": "[encoded data removed]",
      "text/plain": [
       "<Figure size 400x400 with 2 Axes>"
      ]
     },
     "metadata": {},
     "output_type": "display_data"
    }
   ],
   "source": [
    "# We plot the overlap matrix\n",
    "fig, ax = plt.subplots(figsize=(4, 4))\n",
    "\n",
    "# Display the matrix with the Mako colormap\n",
    "cmap = sns.color_palette(\"mako\", as_cmap=True)\n",
    "cax = ax.imshow(overlap_matrix, cmap=cmap, interpolation='none', vmin=0, vmax=1, origin='upper')\n",
    "\n",
    "# Add colorbar\n",
    "divider = make_axes_locatable(ax)\n",
    "cbar_ax = divider.append_axes(\"right\", size=\"5%\", pad=0.2)\n",
    "cb = plt.colorbar(cax, cax=cbar_ax, orientation=\"vertical\")\n",
    "cb.ax.tick_params(labelsize=12)\n",
    "ax.text(1.15, 1.05, \"$o^{(m,n)}$\", ha=\"center\", va=\"center\", color=\"black\", fontsize=16, transform=ax.transAxes)\n",
    "\n",
    "# Set axis ticks and labels\n",
    "ax.set_xticks(range(len(orders)))\n",
    "ax.set_yticks(range(len(orders)))\n",
    "ax.set_xticklabels(orders)\n",
    "ax.set_yticklabels(orders)\n",
    "ax.set_xlabel(\"$n$\", fontsize=16)\n",
    "ax.set_ylabel(\"$m$\", rotation=0, fontsize=16, labelpad=15)\n",
    "ax.hlines(0.5, -0.5, 1.5, colors='lightgray', linestyles='dashed')\n",
    "ax.vlines(0.5, -0.5, 1.5, colors='lightgray', linestyles='dashed')\n",
    "\n",
    "plt.tight_layout()\n",
    "plt.show()\n",
    "\n"
   ]
  },
  {
   "cell_type": "markdown",
   "metadata": {},
   "source": [
    "Other hypergraphs can be selected to compute the overlap matrix in this example. In particular, within the \"Hs\" folder the reader can find:\n",
    "\n",
    "\n",
    "- Regular_Hg_Triangles_N_1000_k_5_k_delta_6_T_1.0000.txt is a set of fully overlapped 2-hyperedges\n",
    "- Regular_Hg_Pairs_N_1000_k_5_k_delta_6_I_1.0000.txt is a set of 1-hyperedges such that the overlap with the former set of 2-hyperedges is maximal\n",
    "- Regular_Hg_Pairs_N_1000_k_5_k_delta_6_I_0.0000.txt is a set of random 1-hyperedges\n",
    "- Regular_Hg_Triangles_N_1000_k_5_k_delta_6_T_0.0000.txt is a set of random 2-hyperedges\n",
    "\n"
   ]
  }
 ],
 "metadata": {
  "kernelspec": {
   "display_name": "base",
   "language": "python",
   "name": "python3"
  },
  "language_info": {
   "codemirror_mode": {
    "name": "ipython",
    "version": 3
   },
   "file_extension": ".py",
   "mimetype": "text/x-python",
   "name": "python",
   "nbconvert_exporter": "python",
   "pygments_lexer": "ipython3",
   "version": "3.11.5"
  }
 },
 "nbformat": 4,
 "nbformat_minor": 2
}
